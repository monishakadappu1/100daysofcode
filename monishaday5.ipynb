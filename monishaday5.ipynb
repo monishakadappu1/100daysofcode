{
 "cells": [
  {
   "cell_type": "code",
   "execution_count": 2,
   "metadata": {},
   "outputs": [],
   "source": [
    "import pandas as pd"
   ]
  },
  {
   "cell_type": "code",
   "execution_count": 4,
   "metadata": {},
   "outputs": [
    {
     "name": "stdout",
     "output_type": "stream",
     "text": [
      "   age         workclass  fnlwgt  education  education-num  \\\n",
      "0   39         State-gov   77516  Bachelors             13   \n",
      "1   50  Self-emp-not-inc   83311  Bachelors             13   \n",
      "2   38           Private  215646    HS-grad              9   \n",
      "3   53           Private  234721       11th              7   \n",
      "4   28           Private  338409  Bachelors             13   \n",
      "\n",
      "       marital-status         occupation   relationship   race     sex  \\\n",
      "0       Never-married       Adm-clerical  Not-in-family  White    Male   \n",
      "1  Married-civ-spouse    Exec-managerial        Husband  White    Male   \n",
      "2            Divorced  Handlers-cleaners  Not-in-family  White    Male   \n",
      "3  Married-civ-spouse  Handlers-cleaners        Husband  Black    Male   \n",
      "4  Married-civ-spouse     Prof-specialty           Wife  Black  Female   \n",
      "\n",
      "   capital-gain  capital-loss  hours-per-week native-country salary  \n",
      "0          2174             0              40  United-States  <=50K  \n",
      "1             0             0              13  United-States  <=50K  \n",
      "2             0             0              40  United-States  <=50K  \n",
      "3             0             0              40  United-States  <=50K  \n",
      "4             0             0              40           Cuba  <=50K  \n"
     ]
    }
   ],
   "source": [
    "#Change this below code to have a correct path to you Adult dataset csv file\n",
    "data = pd.read_csv('adult_dataset.csv')\n",
    "print(data.head(5))"
   ]
  },
  {
   "cell_type": "code",
   "execution_count": 15,
   "metadata": {},
   "outputs": [
    {
     "name": "stdout",
     "output_type": "stream",
     "text": [
      "0         True\n",
      "1         True\n",
      "2         True\n",
      "3         True\n",
      "4        False\n",
      "5        False\n",
      "6        False\n",
      "7         True\n",
      "8        False\n",
      "9         True\n",
      "10        True\n",
      "11        True\n",
      "12       False\n",
      "13        True\n",
      "14        True\n",
      "15        True\n",
      "16        True\n",
      "17        True\n",
      "18        True\n",
      "19       False\n",
      "20        True\n",
      "21       False\n",
      "22        True\n",
      "23        True\n",
      "24       False\n",
      "25        True\n",
      "26        True\n",
      "27        True\n",
      "28        True\n",
      "29        True\n",
      "         ...  \n",
      "32531    False\n",
      "32532     True\n",
      "32533     True\n",
      "32534    False\n",
      "32535     True\n",
      "32536    False\n",
      "32537     True\n",
      "32538    False\n",
      "32539     True\n",
      "32540    False\n",
      "32541    False\n",
      "32542     True\n",
      "32543    False\n",
      "32544    False\n",
      "32545    False\n",
      "32546    False\n",
      "32547     True\n",
      "32548     True\n",
      "32549    False\n",
      "32550     True\n",
      "32551     True\n",
      "32552     True\n",
      "32553     True\n",
      "32554     True\n",
      "32555     True\n",
      "32556    False\n",
      "32557     True\n",
      "32558    False\n",
      "32559     True\n",
      "32560    False\n",
      "Name: sex, Length: 32561, dtype: bool\n"
     ]
    }
   ],
   "source": [
    "print(data.sex == 'Male')\n",
    "#data['malecount'] = data.count(data.sex == 'Male')\n",
    "#print(data['malecount'])"
   ]
  },
  {
   "cell_type": "code",
   "execution_count": 20,
   "metadata": {},
   "outputs": [
    {
     "name": "stdout",
     "output_type": "stream",
     "text": [
      "age               21790\n",
      "workclass         21790\n",
      "fnlwgt            21790\n",
      "education         21790\n",
      "education-num     21790\n",
      "marital-status    21790\n",
      "occupation        21790\n",
      "relationship      21790\n",
      "race              21790\n",
      "sex               21790\n",
      "capital-gain      21790\n",
      "capital-loss      21790\n",
      "hours-per-week    21790\n",
      "native-country    21790\n",
      "salary            21790\n",
      "malecount             0\n",
      "dtype: int64\n"
     ]
    }
   ],
   "source": [
    "(data[['sex']][(data.sex == 'Male')])\n",
    "malecount = data[(data.sex == 'Male')].count()\n",
    "print(malecount)"
   ]
  },
  {
   "cell_type": "code",
   "execution_count": 22,
   "metadata": {},
   "outputs": [
    {
     "name": "stdout",
     "output_type": "stream",
     "text": [
      "Male      21790\n",
      "Female    10771\n",
      "Name: sex, dtype: int64\n"
     ]
    }
   ],
   "source": [
    "print(data.sex.value_counts())"
   ]
  },
  {
   "cell_type": "code",
   "execution_count": 23,
   "metadata": {},
   "outputs": [
    {
     "name": "stdout",
     "output_type": "stream",
     "text": [
      "38.58164675532078\n"
     ]
    }
   ],
   "source": [
    "#average age of all\n",
    "print(data.age.mean())"
   ]
  },
  {
   "cell_type": "code",
   "execution_count": 24,
   "metadata": {},
   "outputs": [
    {
     "name": "stdout",
     "output_type": "stream",
     "text": [
      "36.85823043357163\n"
     ]
    }
   ],
   "source": [
    "print(data[(data.sex == 'Female')].age.mean())"
   ]
  },
  {
   "cell_type": "code",
   "execution_count": 26,
   "metadata": {},
   "outputs": [
    {
     "name": "stdout",
     "output_type": "stream",
     "text": [
      "      native-country\n",
      "122          Germany\n",
      "280          Germany\n",
      "767          Germany\n",
      "1009         Germany\n",
      "1142         Germany\n",
      "1346         Germany\n",
      "1425         Germany\n",
      "1973         Germany\n",
      "2233         Germany\n",
      "2586         Germany\n",
      "2788         Germany\n",
      "2899         Germany\n",
      "3159         Germany\n",
      "3348         Germany\n",
      "3673         Germany\n",
      "3743         Germany\n",
      "4073         Germany\n",
      "4138         Germany\n",
      "4354         Germany\n",
      "4536         Germany\n",
      "4704         Germany\n",
      "4748         Germany\n",
      "5143         Germany\n",
      "5346         Germany\n",
      "5388         Germany\n",
      "5705         Germany\n",
      "5720         Germany\n",
      "5796         Germany\n",
      "6318         Germany\n",
      "6344         Germany\n",
      "...              ...\n",
      "26577        Germany\n",
      "26750        Germany\n",
      "26882        Germany\n",
      "26896        Germany\n",
      "27332        Germany\n",
      "27855        Germany\n",
      "27856        Germany\n",
      "27955        Germany\n",
      "27982        Germany\n",
      "28183        Germany\n",
      "28197        Germany\n",
      "28669        Germany\n",
      "28697        Germany\n",
      "29468        Germany\n",
      "29505        Germany\n",
      "30400        Germany\n",
      "30865        Germany\n",
      "30894        Germany\n",
      "30982        Germany\n",
      "31118        Germany\n",
      "31172        Germany\n",
      "31181        Germany\n",
      "31201        Germany\n",
      "31248        Germany\n",
      "31446        Germany\n",
      "32074        Germany\n",
      "32101        Germany\n",
      "32141        Germany\n",
      "32236        Germany\n",
      "32341        Germany\n",
      "\n",
      "[137 rows x 1 columns]\n"
     ]
    }
   ],
   "source": [
    "print(data[['native-country']][data['native-country']=='Germany'])"
   ]
  },
  {
   "cell_type": "code",
   "execution_count": 28,
   "metadata": {},
   "outputs": [
    {
     "data": {
      "text/plain": [
       "native-country    137\n",
       "dtype: int64"
      ]
     },
     "execution_count": 28,
     "metadata": {},
     "output_type": "execute_result"
    }
   ],
   "source": [
    "data[['native-country']][data['native-country']=='Germany'].count()"
   ]
  },
  {
   "cell_type": "code",
   "execution_count": 34,
   "metadata": {
    "scrolled": true
   },
   "outputs": [
    {
     "name": "stdout",
     "output_type": "stream",
     "text": [
      "137\n",
      "32561\n",
      "percentage of german citizens is \n",
      "0.42074874850281013\n"
     ]
    }
   ],
   "source": [
    "german_count =  data[['native-country']][data['native-country']=='Germany'].count()\n",
    "full_count = data['native-country'].count()\n",
    "print(german_count['native-country'])\n",
    "print(full_count)\n",
    "perc_german = (german_count['native-country']/full_count)*100\n",
    "print(\"percentage of german citizens is \")\n",
    "print(perc_german)"
   ]
  },
  {
   "cell_type": "code",
   "execution_count": 35,
   "metadata": {},
   "outputs": [
    {
     "name": "stdout",
     "output_type": "stream",
     "text": [
      "      salary\n",
      "0      <=50K\n",
      "1      <=50K\n",
      "2      <=50K\n",
      "3      <=50K\n",
      "4      <=50K\n",
      "5      <=50K\n",
      "6      <=50K\n",
      "7       >50K\n",
      "8       >50K\n",
      "9       >50K\n",
      "10      >50K\n",
      "11      >50K\n",
      "12     <=50K\n",
      "13     <=50K\n",
      "14      >50K\n",
      "15     <=50K\n",
      "16     <=50K\n",
      "17     <=50K\n",
      "18     <=50K\n",
      "19      >50K\n",
      "20      >50K\n",
      "21     <=50K\n",
      "22     <=50K\n",
      "23     <=50K\n",
      "24     <=50K\n",
      "25      >50K\n",
      "26     <=50K\n",
      "27      >50K\n",
      "28     <=50K\n",
      "29     <=50K\n",
      "...      ...\n",
      "32531  <=50K\n",
      "32532   >50K\n",
      "32533   >50K\n",
      "32534  <=50K\n",
      "32535  <=50K\n",
      "32536   >50K\n",
      "32537  <=50K\n",
      "32538   >50K\n",
      "32539   >50K\n",
      "32540  <=50K\n",
      "32541  <=50K\n",
      "32542  <=50K\n",
      "32543  <=50K\n",
      "32544  <=50K\n",
      "32545   >50K\n",
      "32546  <=50K\n",
      "32547  <=50K\n",
      "32548  <=50K\n",
      "32549  <=50K\n",
      "32550  <=50K\n",
      "32551  <=50K\n",
      "32552  <=50K\n",
      "32553  <=50K\n",
      "32554   >50K\n",
      "32555  <=50K\n",
      "32556  <=50K\n",
      "32557   >50K\n",
      "32558  <=50K\n",
      "32559  <=50K\n",
      "32560   >50K\n",
      "\n",
      "[32561 rows x 1 columns]\n"
     ]
    }
   ],
   "source": [
    "print(data[['salary']])"
   ]
  },
  {
   "cell_type": "code",
   "execution_count": 53,
   "metadata": {},
   "outputs": [
    {
     "name": "stdout",
     "output_type": "stream",
     "text": [
      "7841\n"
     ]
    }
   ],
   "source": [
    "sal_det = data.salary.value_counts()\n",
    "print(sal_det['>50K'])\n"
   ]
  },
  {
   "cell_type": "code",
   "execution_count": 59,
   "metadata": {},
   "outputs": [
    {
     "name": "stdout",
     "output_type": "stream",
     "text": [
      "mean of the age people who have salary more than 50k \n",
      "age    44.249841\n",
      "dtype: float64\n",
      "sd of the age people who have salary more than 50k \n",
      "age    10.519028\n",
      "dtype: float64\n"
     ]
    }
   ],
   "source": [
    "print(\"mean of the age people who have salary more than 50k \")\n",
    "print(data[['age']][data['salary']=='>50K'].mean())\n",
    "print(\"sd of the age people who have salary more than 50k \")\n",
    "print(data[['age']][data['salary']=='>50K'].std())"
   ]
  },
  {
   "cell_type": "code",
   "execution_count": 58,
   "metadata": {},
   "outputs": [
    {
     "name": "stdout",
     "output_type": "stream",
     "text": [
      "mean of the age people who have salary less than 50k \n",
      "age    36.783738\n",
      "dtype: float64\n",
      "sd of the age people who have salary less than 50k \n",
      "age    14.020088\n",
      "dtype: float64\n"
     ]
    }
   ],
   "source": [
    "print(\"mean of the age people who have salary less than 50k \")\n",
    "print(data[['age']][data['salary']=='<=50K'].mean())\n",
    "print(\"sd of the age people who have salary less than 50k \")\n",
    "print(data[['age']][data['salary']=='<=50K'].std())"
   ]
  },
  {
   "cell_type": "code",
   "execution_count": 66,
   "metadata": {},
   "outputs": [
    {
     "name": "stdout",
     "output_type": "stream",
     "text": [
      "salary    7841\n",
      "dtype: int64\n",
      "education    4535\n",
      "dtype: int64\n",
      "Are all the ppl whose salary is greater than 50k are eductaed?\n",
      "False\n"
     ]
    }
   ],
   "source": [
    "edu_list = ['Bachelors', 'Prof-school', 'Assoc-acdm', 'Assoc-voc', 'Masters','Doctorate']\n",
    "total_ppl = data[['salary']][data['salary']=='>50K'].count()\n",
    "print(total_ppl)\n",
    "ppl_edu =data[['education']][((data['salary']=='>50K')&(data['education'].isin(edu_list)))].count()\n",
    "print(ppl_edu)\n",
    "print(\"Are all the ppl whose salary is greater than 50k are eductaed?\")\n",
    "print(total_ppl['salary'] == ppl_edu['education'])"
   ]
  },
  {
   "cell_type": "code",
   "execution_count": 96,
   "metadata": {},
   "outputs": [
    {
     "name": "stdout",
     "output_type": "stream",
     "text": [
      "311.0\n"
     ]
    }
   ],
   "source": [
    "race_data = data.groupby(['race','sex'])\n",
    "#print(race_data.describe())\n",
    "rcdata = data.groupby('race')\n",
    "print(rcdata.get_group('Amer-Indian-Eskimo').describe().age.max())\n"
   ]
  },
  {
   "cell_type": "code",
   "execution_count": 102,
   "metadata": {},
   "outputs": [
    {
     "name": "stdout",
     "output_type": "stream",
     "text": [
      "marital-status    6736\n",
      "dtype: int64\n",
      "marital-status    25825\n",
      "dtype: int64\n",
      "the group that has a greater salary is\n",
      "unmarried\n"
     ]
    }
   ],
   "source": [
    "married_list = ['Married-civ-spouse','Married-spouse-absent','Married-AF-spouse']\n",
    "married = data[['marital-status']][(data['marital-status'].isin(married_list) & (data['salary']=='>50K'))].count()\n",
    "print(married)\n",
    "unmarried = data[['marital-status']][~(data['marital-status'].isin(married_list) & (data['salary']=='>50K'))].count()\n",
    "print(unmarried)\n",
    "print(\"the group that has a greater salary is\")\n",
    "if(married['marital-status']>unmarried['marital-status']):\n",
    "    print(\"married\")\n",
    "else:\n",
    "    print(\"unmarried\")"
   ]
  },
  {
   "cell_type": "code",
   "execution_count": 106,
   "metadata": {},
   "outputs": [
    {
     "name": "stdout",
     "output_type": "stream",
     "text": [
      "29.411764705882355\n"
     ]
    }
   ],
   "source": [
    "max_hrs = data[['hours-per-week']].max()\n",
    "ppl_max = data[['hours-per-week']][data['hours-per-week']==max_hrs['hours-per-week']].count()\n",
    "ppl_greater = data[['hours-per-week']][(data['hours-per-week']==max_hrs['hours-per-week']) & (data['salary']=='>50K')].count()\n",
    "print((ppl_greater['hours-per-week']/ppl_max['hours-per-week'])*100)"
   ]
  },
  {
   "cell_type": "code",
   "execution_count": 117,
   "metadata": {},
   "outputs": [
    {
     "name": "stdout",
     "output_type": "stream",
     "text": [
      "{'?': Int64Index([   14,    38,    51,    61,    93,   245,   249,   297,   393,\n",
      "              453,\n",
      "            ...\n",
      "            32213, 32232, 32254, 32307, 32413, 32449, 32469, 32492, 32510,\n",
      "            32525],\n",
      "           dtype='int64', length=583), 'Cambodia': Int64Index([  255,  1975,  4303,  4785,  5560,  7980,  8014, 11134, 11637,\n",
      "            16068, 17382, 18075, 20494, 21503, 21851, 22669, 27480, 28995,\n",
      "            32129],\n",
      "           dtype='int64'), 'Canada': Int64Index([  112,   266,   593,  1051,  1314,  1379,  1688,  1938,  2284,\n",
      "             2327,\n",
      "            ...\n",
      "            28582, 29020, 29333, 29614, 30032, 30288, 30623, 30969, 32093,\n",
      "            32112],\n",
      "           dtype='int64', length=121), 'China': Int64Index([  873,  1092,  1217,  1515,  1708,  1717,  1932,  2323,  2432,\n",
      "             3627,  3647,  3714,  3987,  4598,  4972,  5435,  5786,  6065,\n",
      "             6387,  7202,  8075,  8112,  8478,  8508,  9067,  9147,  9202,\n",
      "             9525,  9836,  9957, 10480, 11188, 11986, 12070, 14074, 14147,\n",
      "            14194, 14273, 14374, 14531, 14927, 15762, 15978, 17412, 17540,\n",
      "            17568, 20194, 20561, 20775, 21370, 22028, 22076, 22487, 22564,\n",
      "            23019, 23460, 23483, 23741, 24330, 24940, 25002, 25118, 25577,\n",
      "            26150, 26606, 27033, 27246, 29547, 31047, 31061, 31185, 31243,\n",
      "            31511, 32115, 32204],\n",
      "           dtype='int64'), 'Columbia': Int64Index([  228,  2659,  2992,  3386,  3924,  5463,  6878,  7732,  7921,\n",
      "             9828, 10837, 11601, 11676, 11892, 12500, 12701, 12985, 13223,\n",
      "            13432, 14073, 14113, 14419, 14436, 15210, 16016, 16140, 16258,\n",
      "            16292, 16999, 18787, 18928, 19428, 19918, 20097, 21076, 21502,\n",
      "            21836, 22155, 22376, 23807, 24096, 24240, 24575, 24609, 24650,\n",
      "            25075, 26198, 26349, 27481, 27648, 28480, 28590, 29025, 29746,\n",
      "            29969, 30784, 31305, 31817, 32299],\n",
      "           dtype='int64'), 'Cuba': Int64Index([    4,    81,   638,   701,  1237,  1663,  2018,  2229,  2668,\n",
      "             2790,  3289,  3511,  3533,  4913,  5025,  5194,  5241,  5331,\n",
      "             5834,  6916,  6967,  7062,  8019,  8452,  8540,  8843,  9135,\n",
      "             9339,  9347,  9839,  9919, 10042, 11352, 11495, 12026, 12541,\n",
      "            13627, 13696, 13957, 14058, 14352, 15130, 15173, 16364, 16372,\n",
      "            16392, 16490, 16627, 16771, 17182, 17566, 17646, 17718, 17909,\n",
      "            17928, 18196, 18384, 18431, 19054, 19119, 19444, 19720, 19935,\n",
      "            20114, 20328, 21087, 21145, 22181, 22954, 23503, 23631, 23836,\n",
      "            25129, 25145, 26074, 26101, 26381, 26431, 26715, 26782, 27558,\n",
      "            27625, 28301, 28887, 29010, 29030, 29874, 30376, 30476, 30743,\n",
      "            30841, 30892, 30906, 31149, 31907],\n",
      "           dtype='int64'), 'Dominican-Republic': Int64Index([  427,   688,  1198,  1826,  2107,  2469,  2581,  2647,  3201,\n",
      "             3357,  4171,  4722,  4861,  5510,  5870,  7089,  7230,  7489,\n",
      "             8947,  9006,  9388,  9658,  9770, 10310, 11288, 11937, 13458,\n",
      "            13629, 13849, 14877, 15548, 15789, 15884, 16398, 16932, 17628,\n",
      "            17975, 18604, 18608, 18646, 18870, 19186, 19996, 20011, 20533,\n",
      "            20791, 22033, 22425, 22495, 22773, 23526, 23653, 24046, 24553,\n",
      "            25663, 27180, 27817, 28422, 28664, 28683, 29211, 29972, 30161,\n",
      "            30517, 31141, 31774, 31873, 31919, 32359, 32508],\n",
      "           dtype='int64'), 'Ecuador': Int64Index([  289,  3981,  4158,  4310,  7081,  7659,  9336, 10545, 11130,\n",
      "            11786, 12773, 13082, 15580, 16145, 16918, 17726, 17795, 17923,\n",
      "            19118, 26214, 27277, 27818, 28756, 29184, 29374, 30322, 30783,\n",
      "            31368],\n",
      "           dtype='int64'), 'El-Salvador': Int64Index([  497,   624,  1291,  1880,  2124,  2680,  2861,  3303,  3448,\n",
      "             3592,\n",
      "            ...\n",
      "            30065, 30272, 30334, 30498, 30501, 30505, 31466, 31509, 31838,\n",
      "            32378],\n",
      "           dtype='int64', length=106), 'England': Int64Index([   98,   163,   799,  1228,  1514,  1612,  2021,  2353,  2374,\n",
      "             2377,  3025,  3483,  3680,  3923,  3946,  3962,  5492,  5513,\n",
      "             5787,  6135,  6941,  7036,  7617,  9047,  9225,  9265,  9806,\n",
      "             9857,  9973, 10263, 10475, 10533, 11119, 11811, 11889, 12421,\n",
      "            12762, 12788, 13373, 13750, 14192, 14411, 14445, 14502, 14919,\n",
      "            15143, 15387, 15666, 15804, 15836, 15892, 16171, 16442, 16705,\n",
      "            16896, 17082, 17585, 17855, 17983, 18130, 18279, 18542, 19455,\n",
      "            19692, 20276, 20355, 20398, 21627, 21831, 22767, 22853, 24889,\n",
      "            25156, 25391, 25394, 25413, 25578, 25836, 26277, 26438, 27387,\n",
      "            27417, 27492, 27633, 27664, 28845, 29442, 30279, 31338, 31801],\n",
      "           dtype='int64'), 'France': Int64Index([  503,  3666,  4635,  7982,  9743, 12108, 12338, 13496, 13858,\n",
      "            15584, 16361, 16816, 18430, 21424, 21446, 21569, 21680, 22265,\n",
      "            22724, 23249, 24282, 25072, 25860, 27401, 27637, 29325, 29466,\n",
      "            31268, 31776],\n",
      "           dtype='int64'), 'Germany': Int64Index([  122,   280,   767,  1009,  1142,  1346,  1425,  1973,  2233,\n",
      "             2586,\n",
      "            ...\n",
      "            31172, 31181, 31201, 31248, 31446, 32074, 32101, 32141, 32236,\n",
      "            32341],\n",
      "           dtype='int64', length=137), 'Greece': Int64Index([ 1888,  2426,  2752,  2779,  3215,  4029,  5839,  5883,  5911,\n",
      "             6050,  6424,  6635,  6928,  7735,  7865,  8531,  9306, 10659,\n",
      "            14846, 21475, 21587, 22652, 23303, 26160, 27067, 27330, 28649,\n",
      "            29353, 30064],\n",
      "           dtype='int64'), 'Guatemala': Int64Index([  771,   929,  2336,  3317,  3675,  3719,  3798,  4697,  4700,\n",
      "             4979,  5716,  5842,  6583,  7206,  7319,  7366,  7433,  7839,\n",
      "             9206,  9504,  9984, 11389, 11461, 11982, 12367, 12681, 12783,\n",
      "            12846, 13022, 13084, 13288, 13456, 14264, 14393, 14463, 14862,\n",
      "            15828, 15962, 18104, 18502, 19278, 19601, 20404, 20914, 21903,\n",
      "            22270, 22300, 22541, 22617, 23510, 25630, 25645, 25754, 26223,\n",
      "            27152, 27887, 28674, 28775, 28901, 29720, 30285, 30483, 31457,\n",
      "            32214],\n",
      "           dtype='int64'), 'Haiti': Int64Index([  338,   748,  1629,  2288,  2561,  4180,  5812,  6421,  7289,\n",
      "             7755,  8726,  9068,  9595,  9648,  9779, 11304, 11618, 11709,\n",
      "            12270, 12592, 14024, 14530, 14975, 15593, 15995, 18163, 19263,\n",
      "            19711, 20281, 20722, 20859, 21097, 21124, 21904, 22061, 22576,\n",
      "            24102, 24296, 28579, 28965, 30528, 31384, 31486, 31536],\n",
      "           dtype='int64'), 'Holand-Netherlands': Int64Index([19609], dtype='int64'), 'Honduras': Int64Index([   52,   714,  2084,  6958,  7234, 12423, 16957, 17561, 25745,\n",
      "            27115, 27271, 27765, 32456],\n",
      "           dtype='int64'), 'Hong': Int64Index([ 2655, 10188, 11946, 12096, 14214, 14672, 15644, 16843, 19964,\n",
      "            20780, 23917, 25943, 27329, 28049, 28800, 30338, 30732, 30975,\n",
      "            32242, 32327],\n",
      "           dtype='int64'), 'Hungary': Int64Index([ 8562, 12529, 13928, 15259, 17144, 17735, 18839, 21371, 22658,\n",
      "            23023, 27041, 27750, 30346],\n",
      "           dtype='int64'), 'India': Int64Index([   11,   892,   968,  1029,  1095,  1327,  2130,  2558,  2989,\n",
      "             4480,  4512,  4523,  5629,  6219,  6321,  6560,  6964,  7258,\n",
      "             7285,  7844,  7932,  8124,  9128,  9533,  9793,  9939, 10107,\n",
      "            10305, 10590, 10661, 10736, 11260, 11384, 11756, 11835, 12368,\n",
      "            12795, 13422, 13551, 13862, 14041, 14685, 15698, 16017, 16336,\n",
      "            16778, 16923, 17259, 17834, 18556, 18968, 19926, 19959, 20417,\n",
      "            20465, 20709, 21128, 21130, 22431, 22879, 23022, 23474, 23891,\n",
      "            24154, 24175, 24872, 24981, 25376, 25662, 25739, 25897, 26305,\n",
      "            26321, 26356, 27170, 27244, 27289, 27659, 27670, 27889, 27904,\n",
      "            27974, 28264, 28433, 28452, 28557, 28651, 28693, 28774, 28798,\n",
      "            28816, 29207, 29631, 29728, 30111, 30152, 30833, 30871, 31327,\n",
      "            31357],\n",
      "           dtype='int64'), 'Iran': Int64Index([  135,   237,   348,  1054,  1387,  2652,  3389,  3390,  4145,\n",
      "             4369,  4433,  5205,  6182,  6295,  6527,  6604,  6750,  6865,\n",
      "             7402,  7461,  9826,  9945, 10125, 13961, 14144, 14698, 15877,\n",
      "            16091, 17854, 19097, 19322, 20243, 20887, 21441, 23321, 25172,\n",
      "            25646, 25961, 26545, 26570, 31003, 31592, 31985],\n",
      "           dtype='int64'), 'Ireland': Int64Index([ 2966,  3972,  3982,  4765,  5619,  7293, 10205, 10246, 11831,\n",
      "            11931, 12011, 12901, 15086, 15158, 16990, 18479, 20420, 20636,\n",
      "            21729, 25949, 26087, 26736, 28654, 32337],\n",
      "           dtype='int64'), 'Italy': Int64Index([  201,   815,  1363,  1655,  1674,  1882,  2159,  2900,  2933,\n",
      "             3447,  4455,  4813,  5441,  6559,  6590,  6606,  7275,  7546,\n",
      "             8983, 10227, 10274, 10431, 10918, 11974, 12169, 12254, 12490,\n",
      "            13470, 14088, 14412, 14705, 14809, 14910, 15668, 16699, 17591,\n",
      "            17769, 17827, 18083, 18340, 18443, 19348, 19576, 20321, 20581,\n",
      "            21186, 22190, 22610, 22667, 22700, 23082, 23216, 23315, 23722,\n",
      "            24876, 26407, 27311, 27914, 28008, 28232, 28732, 29717, 30195,\n",
      "            30634, 31044, 31207, 31242, 31247, 31376, 31702, 32153, 32278,\n",
      "            32313],\n",
      "           dtype='int64'), 'Jamaica': Int64Index([    6,   706,  1135,  1570,  2006,  2128,  3551,  3608,  3973,\n",
      "             4033,  4286,  4361,  4381,  4485,  4647,  5083,  6044,  6212,\n",
      "             6288,  6578,  6601,  6634,  6655,  6672,  6715,  8274,  8649,\n",
      "             8994,  9314,  9784,  9790, 10154, 11431, 11490, 11547, 12420,\n",
      "            13162, 13647, 14708, 14893, 14974, 15358, 15560, 15587, 15862,\n",
      "            16118, 17818, 18887, 19234, 20346, 20415, 20450, 20934, 21431,\n",
      "            22717, 23910, 24657, 24783, 25185, 25528, 25955, 26364, 26531,\n",
      "            26692, 26909, 27687, 28075, 28323, 28466, 28515, 29420, 29484,\n",
      "            29625, 30069, 30443, 30611, 30863, 31033, 31038, 31954, 32229],\n",
      "           dtype='int64'), 'Japan': Int64Index([ 1020,  1119,  1301,  1368,  1756,  2096,  2834,  2994,  3064,\n",
      "             5012,  5491,  5980,  6038,  7245,  7792,  8152,  8237,  9017,\n",
      "             9262,  9452, 11764, 12323, 12848, 13229, 13244, 13923, 14396,\n",
      "            14543, 15177, 16200, 16391, 16729, 17142, 18414, 18538, 18657,\n",
      "            18686, 18808, 19743, 20137, 20292, 20423, 20936, 22174, 22225,\n",
      "            23931, 24483, 24632, 25696, 25946, 26362, 26415, 26862, 27135,\n",
      "            27163, 29393, 30802, 31757, 31830, 32075, 32376, 32533],\n",
      "           dtype='int64'), 'Laos': Int64Index([  304,  4610,  5971,  6853, 15310, 15443, 21520, 23177, 25227,\n",
      "            25975, 26432, 27315, 27714, 28002, 28295, 30326, 31002, 31332],\n",
      "           dtype='int64'), 'Mexico': Int64Index([   15,    56,    75,   142,   150,   165,   183,   195,   317,\n",
      "              335,\n",
      "            ...\n",
      "            32031, 32035, 32306, 32312, 32320, 32332, 32334, 32425, 32432,\n",
      "            32547],\n",
      "           dtype='int64', length=643), 'Nicaragua': Int64Index([ 1948,  2022,  2646,  2749,  4315,  7960,  8099,  9176,  9252,\n",
      "             9551, 12263, 12412, 13117, 13887, 15736, 16202, 17255, 17465,\n",
      "            18482, 18606, 19641, 20989, 22993, 24000, 24558, 25366, 25594,\n",
      "            26218, 26516, 27020, 28456, 29995, 30881, 32263],\n",
      "           dtype='int64'), 'Outlying-US(Guam-USVI-etc)': Int64Index([ 1565,  4233,  4508,  7025, 14680, 16120, 19129, 21665, 26386,\n",
      "            28494, 28575, 29916, 30088, 31686],\n",
      "           dtype='int64'), 'Peru': Int64Index([ 1430,  3260,  4085,  6794,  6795,  8110,  9665, 10312, 10360,\n",
      "            11374, 13017, 13129, 13227, 13699, 14129, 18154, 19253, 21823,\n",
      "            24531, 24637, 24739, 24827, 24853, 26372, 27344, 28357, 28634,\n",
      "            28895, 30189, 30520, 31948],\n",
      "           dtype='int64'), 'Philippines': Int64Index([  152,   434,   655,   881,  1281,  1609,  1622,  1793,  1839,\n",
      "             2249,\n",
      "            ...\n",
      "            31506, 31596, 31634, 31673, 31770, 31787, 32062, 32199, 32370,\n",
      "            32428],\n",
      "           dtype='int64', length=198), 'Poland': Int64Index([  217,   500,   698,  1372,  2268,  2373,  3115,  3236,  4042,\n",
      "             5092,  5112,  5301,  5471,  5617,  6043,  7896,  8049,  8487,\n",
      "             8651,  9106,  9201,  9384, 10624, 11772, 12067, 12267, 12384,\n",
      "            12785, 13115, 13295, 13303, 13615, 14356, 14603, 15681, 15839,\n",
      "            16323, 16848, 17218, 17679, 17707, 20175, 20339, 21152, 21617,\n",
      "            21921, 22533, 23240, 23939, 25025, 25163, 25672, 25804, 27908,\n",
      "            28600, 28832, 30762, 31153, 31202, 32459],\n",
      "           dtype='int64'), 'Portugal': Int64Index([  359,   480,   681,   762,  2584,  3481,  4905,  5734,  6877,\n",
      "             7358,  7890,  8557, 11261, 11294, 11672, 12032, 14723, 14900,\n",
      "            15246, 15939, 15966, 19047, 21303, 21636, 21951, 22292, 22391,\n",
      "            24126, 26850, 27692, 28056, 28227, 28439, 30856, 31902, 32352,\n",
      "            32403],\n",
      "           dtype='int64'), 'Puerto-Rico': Int64Index([   35,    57,   404,   530,  1789,  1847,  2137,  2144,  2502,\n",
      "             2891,\n",
      "            ...\n",
      "            27584, 28216, 28273, 28395, 28593, 28715, 29015, 29647, 30299,\n",
      "            31057],\n",
      "           dtype='int64', length=114), 'Scotland': Int64Index([1586, 5259, 8165, 15039, 17176, 19059, 20363, 21634, 22409, 27518,\n",
      "            29137, 32371],\n",
      "           dtype='int64'), 'South': Int64Index([   27,   668,   916,  1969,  2208,  3202,  4066,  4367,  4409,\n",
      "             5330,  5424,  5592,  6150,  6493,  6570,  6631,  6921,  7057,\n",
      "             7059,  7507,  7800,  8066,  8896,  9318,  9550,  9735,  9911,\n",
      "            10219, 10233, 10378, 10772, 11686, 12093, 12262, 12451, 12584,\n",
      "            12625, 12779, 13550, 13589, 13933, 14401, 14572, 15037, 15466,\n",
      "            16924, 17110, 17984, 18189, 18244, 18450, 18509, 19035, 19693,\n",
      "            20172, 22029, 22197, 22324, 22446, 22797, 22896, 23021, 23804,\n",
      "            24735, 25231, 25561, 25816, 26152, 26494, 27046, 27338, 27647,\n",
      "            27799, 27867, 29290, 29488, 30347, 30533, 31302, 31751],\n",
      "           dtype='int64'), 'Taiwan': Int64Index([  311,   652,  1077,  2286,  2339,  2898,  3909,  4108,  4403,\n",
      "             4625,  5196,  5219,  6549,  7320,  8809,  8898,  9860,  9952,\n",
      "            10091, 11466, 11597, 12438, 14488, 15005, 15253, 16583, 17172,\n",
      "            17717, 17823, 17835, 18159, 18238, 19200, 19509, 21158, 21348,\n",
      "            21705, 22956, 23351, 23590, 24006, 24156, 25350, 25752, 26457,\n",
      "            26649, 26879, 28511, 30200, 31429, 32553],\n",
      "           dtype='int64'), 'Thailand': Int64Index([  265,  1411,  6952,  7606,  8055,  9341,  9441, 10630, 15967,\n",
      "            20543, 20698, 21452, 22307, 22405, 24202, 25153, 27056, 27874],\n",
      "           dtype='int64'), 'Trinadad&Tobago': Int64Index([ 1794,  2441,  3179,  4576,  7663,  9553, 12321, 13236, 22358,\n",
      "            22783, 23495, 24307, 27306, 28828, 29038, 29195, 30007, 30017,\n",
      "            30168],\n",
      "           dtype='int64'), 'United-States': Int64Index([    0,     1,     2,     3,     5,     7,     8,     9,    10,\n",
      "               12,\n",
      "            ...\n",
      "            32550, 32551, 32552, 32554, 32555, 32556, 32557, 32558, 32559,\n",
      "            32560],\n",
      "           dtype='int64', length=29170), 'Vietnam': Int64Index([ 2259,  2653,  3708,  3832,  3879,  4168,  4262,  4724,  4826,\n",
      "             4919,  5395,  5415,  6175,  7210,  7697,  7909,  8572,  8633,\n",
      "             8953,  9463,  9470,  9626,  9711, 10335, 10374, 11271, 11589,\n",
      "            13122, 13468, 13648, 13821, 14507, 15124, 15403, 17269, 17895,\n",
      "            18031, 18096, 19094, 19511, 19526, 19542, 19750, 20360, 21048,\n",
      "            21218, 22021, 22900, 23564, 23902, 25735, 25994, 26568, 26878,\n",
      "            27002, 27026, 27214, 27642, 28773, 28942, 29311, 29633, 30135,\n",
      "            30301, 31079, 32044, 32203],\n",
      "           dtype='int64'), 'Yugoslavia': Int64Index([ 1025,  4447,  6328,  7287, 12506, 12816, 13125, 18247, 20549,\n",
      "            22200, 23814, 26614, 28487, 29437, 30543, 31519],\n",
      "           dtype='int64')}\n"
     ]
    }
   ],
   "source": [
    "country = data.groupby('native-country')\n",
    "print(country.groups)"
   ]
  },
  {
   "cell_type": "code",
   "execution_count": 137,
   "metadata": {},
   "outputs": [
    {
     "name": "stdout",
     "output_type": "stream",
     "text": [
      "?\n",
      "salary greater than 50k\n",
      "45.54794520547945\n",
      "salary less than 50k\n",
      "40.16475972540046\n",
      "Cambodia\n",
      "salary greater than 50k\n",
      "40.0\n",
      "salary less than 50k\n",
      "41.416666666666664\n",
      "Canada\n",
      "salary greater than 50k\n",
      "45.64102564102564\n",
      "salary less than 50k\n",
      "37.91463414634146\n",
      "China\n",
      "salary greater than 50k\n",
      "38.9\n",
      "salary less than 50k\n",
      "37.38181818181818\n",
      "Columbia\n",
      "salary greater than 50k\n",
      "50.0\n",
      "salary less than 50k\n",
      "38.68421052631579\n",
      "Cuba\n",
      "salary greater than 50k\n",
      "42.44\n",
      "salary less than 50k\n",
      "37.98571428571429"
     ]
    },
    {
     "name": "stderr",
     "output_type": "stream",
     "text": [
      "C:\\ProgramData\\Anaconda3\\lib\\site-packages\\ipykernel_launcher.py:5: UserWarning: Boolean Series key will be reindexed to match DataFrame index.\n",
      "  \"\"\"\n",
      "C:\\ProgramData\\Anaconda3\\lib\\site-packages\\ipykernel_launcher.py:9: UserWarning: Boolean Series key will be reindexed to match DataFrame index.\n",
      "  if __name__ == '__main__':\n"
     ]
    },
    {
     "name": "stdout",
     "output_type": "stream",
     "text": [
      "\n",
      "Dominican-Republic\n",
      "salary greater than 50k\n",
      "47.0\n",
      "salary less than 50k\n",
      "42.338235294117645\n",
      "Ecuador\n",
      "salary greater than 50k\n",
      "48.75\n",
      "salary less than 50k\n",
      "38.041666666666664\n",
      "El-Salvador\n",
      "salary greater than 50k\n",
      "45.0\n",
      "salary less than 50k\n",
      "36.03092783505155\n",
      "England\n",
      "salary greater than 50k\n",
      "44.53333333333333\n",
      "salary less than 50k\n",
      "40.483333333333334\n",
      "France\n",
      "salary greater than 50k\n",
      "50.75\n",
      "salary less than 50k\n",
      "41.05882352941177\n",
      "Germany\n",
      "salary greater than 50k\n",
      "44.97727272727273\n",
      "salary less than 50k\n",
      "39.13978494623656\n",
      "Greece\n",
      "salary greater than 50k\n",
      "50.625\n",
      "salary less than 50k\n",
      "41.80952380952381\n",
      "Guatemala\n",
      "salary greater than 50k\n",
      "36.666666666666664\n",
      "salary less than 50k\n",
      "39.36065573770492\n",
      "Haiti\n",
      "salary greater than 50k\n",
      "42.75\n",
      "salary less than 50k\n",
      "36.325\n",
      "Holand-Netherlands\n",
      "salary greater than 50k\n",
      "nan\n",
      "salary less than 50k\n",
      "40.0\n",
      "Honduras\n",
      "salary greater than 50k\n",
      "60.0\n",
      "salary less than 50k\n",
      "34.333333333333336\n",
      "Hong\n",
      "salary greater than 50k\n",
      "45.0\n",
      "salary less than 50k\n",
      "39.142857142857146\n",
      "Hungary\n",
      "salary greater than 50k\n",
      "50.0\n",
      "salary less than 50k\n",
      "31.3\n",
      "India\n",
      "salary greater than 50k\n",
      "46.475\n",
      "salary less than 50k\n",
      "38.233333333333334\n",
      "Iran\n",
      "salary greater than 50k\n",
      "47.5\n",
      "salary less than 50k\n",
      "41.44\n",
      "Ireland\n",
      "salary greater than 50k\n",
      "48.0\n",
      "salary less than 50k\n",
      "40.94736842105263\n",
      "Italy\n",
      "salary greater than 50k\n",
      "45.4\n",
      "salary less than 50k\n",
      "39.625\n",
      "Jamaica\n",
      "salary greater than 50k\n",
      "41.1\n",
      "salary less than 50k\n",
      "38.23943661971831\n",
      "Japan\n",
      "salary greater than 50k\n",
      "47.958333333333336\n",
      "salary less than 50k\n",
      "41.0\n",
      "Laos\n",
      "salary greater than 50k\n",
      "40.0\n",
      "salary less than 50k\n",
      "40.375\n",
      "Mexico\n",
      "salary greater than 50k\n",
      "46.57575757575758\n",
      "salary less than 50k\n",
      "40.00327868852459\n",
      "Nicaragua\n",
      "salary greater than 50k\n",
      "37.5\n",
      "salary less than 50k\n",
      "36.09375\n",
      "Outlying-US(Guam-USVI-etc)\n",
      "salary greater than 50k\n",
      "nan\n",
      "salary less than 50k\n",
      "41.857142857142854\n",
      "Peru\n",
      "salary greater than 50k\n",
      "40.0\n",
      "salary less than 50k\n",
      "35.06896551724138\n",
      "Philippines\n",
      "salary greater than 50k\n",
      "43.032786885245905\n",
      "salary less than 50k\n",
      "38.065693430656935\n",
      "Poland\n",
      "salary greater than 50k\n",
      "39.0\n",
      "salary less than 50k\n",
      "38.166666666666664\n",
      "Portugal\n",
      "salary greater than 50k\n",
      "41.5\n",
      "salary less than 50k\n",
      "41.93939393939394\n",
      "Puerto-Rico\n",
      "salary greater than 50k\n",
      "39.416666666666664\n",
      "salary less than 50k\n",
      "38.470588235294116\n",
      "Scotland\n",
      "salary greater than 50k\n",
      "46.666666666666664\n",
      "salary less than 50k\n",
      "39.44444444444444\n",
      "South\n",
      "salary greater than 50k\n",
      "51.4375\n",
      "salary less than 50k\n",
      "40.15625\n",
      "Taiwan\n",
      "salary greater than 50k\n",
      "46.8\n",
      "salary less than 50k\n",
      "33.774193548387096\n",
      "Thailand\n",
      "salary greater than 50k\n",
      "58.333333333333336\n",
      "salary less than 50k\n",
      "42.86666666666667\n",
      "Trinadad&Tobago\n",
      "salary greater than 50k\n",
      "40.0\n",
      "salary less than 50k\n",
      "37.05882352941177\n",
      "United-States\n",
      "salary greater than 50k\n",
      "45.50536884674383\n",
      "salary less than 50k\n",
      "38.79912723305605\n",
      "Vietnam\n",
      "salary greater than 50k\n",
      "39.2\n",
      "salary less than 50k\n",
      "37.193548387096776\n",
      "Yugoslavia\n",
      "salary greater than 50k\n",
      "49.5\n",
      "salary less than 50k\n",
      "41.6\n"
     ]
    }
   ],
   "source": [
    "for grp in country.groups.keys():\n",
    "    print(grp)\n",
    "    grpnat = country.get_group(grp)\n",
    "    print(\"salary greater than 50k\")\n",
    "    grphigh = grpnat[['native-country','hours-per-week']][data['salary']=='>50K']\n",
    "   # print(grphigh[['native-country']][grphigh['hours-per-week']].mean())\n",
    "    print(grphigh['hours-per-week'].mean())\n",
    "    print(\"salary less than 50k\")\n",
    "    grplow = grpnat[['native-country','hours-per-week']][data['salary']=='<=50K']\n",
    "    print(grplow['hours-per-week'].mean())"
   ]
  },
  {
   "cell_type": "code",
   "execution_count": 140,
   "metadata": {},
   "outputs": [
    {
     "name": "stdout",
     "output_type": "stream",
     "text": [
      "salary greater than 50k\n",
      "47.958333333333336\n",
      "salary less than 50k\n",
      "41.0\n"
     ]
    },
    {
     "name": "stderr",
     "output_type": "stream",
     "text": [
      "C:\\ProgramData\\Anaconda3\\lib\\site-packages\\ipykernel_launcher.py:2: UserWarning: Boolean Series key will be reindexed to match DataFrame index.\n",
      "  \n",
      "C:\\ProgramData\\Anaconda3\\lib\\site-packages\\ipykernel_launcher.py:6: UserWarning: Boolean Series key will be reindexed to match DataFrame index.\n",
      "  \n"
     ]
    }
   ],
   "source": [
    "japan = country.get_group('Japan')\n",
    "japanhigh = japan[['native-country','hours-per-week']][data['salary']=='>50K']\n",
    "print(\"salary greater than 50k\")\n",
    "print(japanhigh['hours-per-week'].mean())\n",
    "print(\"salary less than 50k\")\n",
    "japanlow = japan[['native-country','hours-per-week']][data['salary']=='<=50K']\n",
    "print(japanlow['hours-per-week'].mean())"
   ]
  },
  {
   "cell_type": "code",
   "execution_count": null,
   "metadata": {},
   "outputs": [],
   "source": []
  }
 ],
 "metadata": {
  "kernelspec": {
   "display_name": "Python 3",
   "language": "python",
   "name": "python3"
  },
  "language_info": {
   "codemirror_mode": {
    "name": "ipython",
    "version": 3
   },
   "file_extension": ".py",
   "mimetype": "text/x-python",
   "name": "python",
   "nbconvert_exporter": "python",
   "pygments_lexer": "ipython3",
   "version": "3.7.3"
  }
 },
 "nbformat": 4,
 "nbformat_minor": 2
}
