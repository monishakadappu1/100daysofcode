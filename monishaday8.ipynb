{
 "cells": [
  {
   "cell_type": "code",
   "execution_count": 11,
   "metadata": {},
   "outputs": [],
   "source": [
    "import pandas as pd\n",
    "import math"
   ]
  },
  {
   "cell_type": "code",
   "execution_count": 2,
   "metadata": {},
   "outputs": [],
   "source": [
    "flower = pd.read_csv(\"iris.csv\")"
   ]
  },
  {
   "cell_type": "code",
   "execution_count": 3,
   "metadata": {},
   "outputs": [
    {
     "name": "stdout",
     "output_type": "stream",
     "text": [
      "   sepal-length  sepal-width  petal-length  petal-width        Class\n",
      "0           5.1          3.5           1.4          0.2  Iris-setosa\n",
      "1           4.9          3.0           1.4          0.2  Iris-setosa\n",
      "2           4.7          3.2           1.3          0.2  Iris-setosa\n",
      "3           4.6          3.1           1.5          0.2  Iris-setosa\n",
      "4           5.0          3.6           1.4          0.2  Iris-setosa\n"
     ]
    }
   ],
   "source": [
    "print(flower.head(5))"
   ]
  },
  {
   "cell_type": "code",
   "execution_count": 4,
   "metadata": {},
   "outputs": [],
   "source": [
    "\n",
    "rand_seplen = 4.5\n",
    "rand_sepwid = 3.6\n",
    "rand_petlen = 1.2\n",
    "rand_petwid = 0.1"
   ]
  },
  {
   "cell_type": "code",
   "execution_count": 47,
   "metadata": {},
   "outputs": [
    {
     "name": "stdout",
     "output_type": "stream",
     "text": [
      "enter seplen\n",
      "5.5\n",
      "enter sepwid\n",
      "3.5\n",
      "enter petlen\n",
      "2.5\n",
      "enter petwid\n",
      "0.5\n"
     ]
    }
   ],
   "source": [
    "print(\"enter seplen\")\n",
    "rand_seplen = float(input())\n",
    "print(\"enter sepwid\")\n",
    "rand_sepwid = float(input())\n",
    "print(\"enter petlen\")\n",
    "rand_petlen = float(input())\n",
    "print(\"enter petwid\")\n",
    "rand_petwid = float(input())"
   ]
  },
  {
   "cell_type": "code",
   "execution_count": 48,
   "metadata": {},
   "outputs": [
    {
     "name": "stdout",
     "output_type": "stream",
     "text": [
      "lengths are 150 150 150 150\n"
     ]
    }
   ],
   "source": [
    "seplen = flower[\"sepal-length\"].tolist()\n",
    "sepwid = flower[\"sepal-width\"].tolist()\n",
    "petlen = flower[\"petal-length\"].tolist()\n",
    "petwid = flower[\"petal-width\"].tolist()\n",
    "print(\"lengths are %d %d %d %d\" % (len(seplen),len(sepwid),len(petlen),len(petwid)))"
   ]
  },
  {
   "cell_type": "code",
   "execution_count": 49,
   "metadata": {},
   "outputs": [
    {
     "name": "stdout",
     "output_type": "stream",
     "text": [
      "   sepal-length  sepal-width  petal-length  petal-width        Class  \\\n",
      "0           5.1          3.5           1.4          0.2  Iris-setosa   \n",
      "1           4.9          3.0           1.4          0.2  Iris-setosa   \n",
      "\n",
      "   dist_flower  \n",
      "0     1.208305  \n",
      "1     1.382027  \n"
     ]
    }
   ],
   "source": [
    "distance = []\n",
    "for i in range(150):\n",
    "    dist = math.sqrt(math.pow((seplen[i]-rand_seplen),2) + math.pow((rand_sepwid - sepwid[i]),2) +math.pow((rand_petlen-petlen[i]),2) + math.pow((rand_petwid -petwid[i]),2))\n",
    "    distance.append(dist)\n",
    "flower[\"dist_flower\"]=(distance)\n",
    "print(flower.head(2))"
   ]
  },
  {
   "cell_type": "code",
   "execution_count": 18,
   "metadata": {},
   "outputs": [],
   "source": [
    "sortFlower = flower.sort_values(by =[\"dist_flower\"])"
   ]
  },
  {
   "cell_type": "code",
   "execution_count": 50,
   "metadata": {},
   "outputs": [
    {
     "name": "stdout",
     "output_type": "stream",
     "text": [
      "    sepal-length  sepal-width  petal-length  petal-width        Class  \\\n",
      "22           4.6          3.6           1.0          0.2  Iris-setosa   \n",
      "6            4.6          3.4           1.4          0.3  Iris-setosa   \n",
      "42           4.4          3.2           1.3          0.2  Iris-setosa   \n",
      "47           4.6          3.2           1.4          0.2  Iris-setosa   \n",
      "2            4.7          3.2           1.3          0.2  Iris-setosa   \n",
      "\n",
      "    dist_flower  \n",
      "22     0.244949  \n",
      "6      0.360555  \n",
      "42     0.435890  \n",
      "47     0.469042  \n",
      "2      0.469042  \n"
     ]
    }
   ],
   "source": [
    "print(sortFlower.head(5))"
   ]
  },
  {
   "cell_type": "code",
   "execution_count": 51,
   "metadata": {},
   "outputs": [
    {
     "name": "stdout",
     "output_type": "stream",
     "text": [
      "{'Iris-setosa': 5}\n"
     ]
    },
    {
     "data": {
      "text/plain": [
       "dict"
      ]
     },
     "execution_count": 51,
     "metadata": {},
     "output_type": "execute_result"
    }
   ],
   "source": [
    "#taking k as 5\n",
    "classlist = sortFlower.loc[0:5,'Class']\n",
    "#print(classlist)\n",
    "classhead = sortFlower[[\"Class\"]].head(5)\n",
    "major=classhead.Class.value_counts().to_dict()\n",
    "print(major)\n",
    "type(major)"
   ]
  },
  {
   "cell_type": "code",
   "execution_count": 52,
   "metadata": {},
   "outputs": [
    {
     "name": "stdout",
     "output_type": "stream",
     "text": [
      "Iris-setosa\n"
     ]
    }
   ],
   "source": [
    "finalmajclass = \"\"\n",
    "for key in major:\n",
    "    if major[key] == max(major.values()):\n",
    "        finalmajclass=key\n",
    "print(finalmajclass)\n",
    "    \n",
    "        "
   ]
  },
  {
   "cell_type": "code",
   "execution_count": 53,
   "metadata": {},
   "outputs": [
    {
     "name": "stdout",
     "output_type": "stream",
     "text": [
      "the flower belongs to the class :\n",
      "Iris-setosa\n"
     ]
    }
   ],
   "source": [
    "print(\"the flower belongs to the class :\")\n",
    "print(finalmajclass)"
   ]
  },
  {
   "cell_type": "code",
   "execution_count": 55,
   "metadata": {},
   "outputs": [
    {
     "name": "stdout",
     "output_type": "stream",
     "text": [
      "enter seplen\n",
      "5.5\n",
      "enter sepwid\n",
      "3.6\n",
      "enter petlen\n",
      "2.1\n",
      "enter petwid\n",
      "1.2\n",
      "the flower belongs to the class :\n",
      "Iris-setosa\n"
     ]
    }
   ],
   "source": [
    "flower = pd.read_csv(\"iris.csv\")\n",
    "print(\"enter seplen\")\n",
    "rand_seplen = float(input())\n",
    "print(\"enter sepwid\")\n",
    "rand_sepwid = float(input())\n",
    "print(\"enter petlen\")\n",
    "rand_petlen = float(input())\n",
    "print(\"enter petwid\")\n",
    "rand_petwid = float(input())\n",
    "\n",
    "def findclass():\n",
    "    seplen = flower[\"sepal-length\"].tolist()\n",
    "    sepwid = flower[\"sepal-width\"].tolist()\n",
    "    petlen = flower[\"petal-length\"].tolist()\n",
    "    petwid = flower[\"petal-width\"].tolist()\n",
    "    distance = []\n",
    "    for i in range(150):\n",
    "        dist = math.sqrt(math.pow((seplen[i]-rand_seplen),2) + math.pow((rand_sepwid - sepwid[i]),2) +math.pow((rand_petlen-petlen[i]),2) + math.pow((rand_petwid -petwid[i]),2))\n",
    "        distance.append(dist)\n",
    "    flower[\"dist_flower\"]=(distance)\n",
    "    #print(flower.head(2))\n",
    "    sortFlower = flower.sort_values(by =[\"dist_flower\"])\n",
    "    #taking k as 5\n",
    "    classlist = sortFlower.loc[0:5,'Class']\n",
    "    #print(classlist)\n",
    "    classhead = sortFlower[[\"Class\"]].head(5)\n",
    "    major=classhead.Class.value_counts().to_dict()\n",
    "    finalmajclass = \"\"\n",
    "    for key in major:\n",
    "        if major[key] == max(major.values()):\n",
    "            finalmajclass=key\n",
    "    print(\"the flower belongs to the class :\")\n",
    "    print(finalmajclass)\n",
    "    \n",
    "findclass()"
   ]
  },
  {
   "cell_type": "code",
   "execution_count": null,
   "metadata": {},
   "outputs": [],
   "source": []
  }
 ],
 "metadata": {
  "kernelspec": {
   "display_name": "Python 3",
   "language": "python",
   "name": "python3"
  },
  "language_info": {
   "codemirror_mode": {
    "name": "ipython",
    "version": 3
   },
   "file_extension": ".py",
   "mimetype": "text/x-python",
   "name": "python",
   "nbconvert_exporter": "python",
   "pygments_lexer": "ipython3",
   "version": "3.7.3"
  }
 },
 "nbformat": 4,
 "nbformat_minor": 2
}
